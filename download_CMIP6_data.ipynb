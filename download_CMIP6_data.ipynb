{
 "cells": [
  {
   "cell_type": "markdown",
   "metadata": {},
   "source": [
    "### Installing miniconda"
   ]
  },
  {
   "cell_type": "code",
   "execution_count": null,
   "metadata": {},
   "outputs": [],
   "source": [
    "wget https://repo.anaconda.com/miniconda/Miniconda3-latest-Linux-x86_64.sh\n",
    "bash Miniconda3-latest-Linux-x86_64.sh\n",
    "# Enter | scroll down | yes | Enter | yes\n",
    "\n",
    "conda config --set auto_activate_base false\n",
    "# ctrl-D and log back in on Leonardo\n",
    "conda list # Check if everything's working\n"
   ]
  },
  {
   "cell_type": "markdown",
   "metadata": {},
   "source": [
    "### Configuring miniconda"
   ]
  },
  {
   "cell_type": "code",
   "execution_count": null,
   "metadata": {},
   "outputs": [],
   "source": [
    "mkdir -p ${HOME}/miniconda3/envs ${HOME}/miniconda3/pkgs\n",
    "conda config --append envs_dirs ${HOME}/miniconda3/envs\n",
    "conda config --append pkgs_dirs ${HOME}/miniconda3/pkgs\n"
   ]
  },
  {
   "cell_type": "code",
   "execution_count": null,
   "metadata": {},
   "outputs": [],
   "source": [
    "conda create --name CMIP --file env.txt --channel conda-forge --override-channels --solver classic\n",
    "conda activate CMIP"
   ]
  },
  {
   "cell_type": "code",
   "execution_count": null,
   "metadata": {},
   "outputs": [],
   "source": [
    "# to install new packages, add them to the env.txt file and run:\n",
    "conda install --file env.txt --channel conda-forge --override-channels --solver classic"
   ]
  },
  {
   "cell_type": "markdown",
   "metadata": {},
   "source": [
    "### CDSAPI setup\n",
    "https://cds.climate.copernicus.eu/how-to-api"
   ]
  },
  {
   "cell_type": "markdown",
   "metadata": {},
   "source": [
    "### Setup the CDS API personal access token\n",
    "Here is how to setup the CDS API personal access token:\n",
    "\n",
    "    1. If you do not have an account yet, please register.  \n",
    "    2. If you are not logged in, please login.  \n",
    "    3. Once logged in, copy the code displayed below to the file `$HOME/.cdsapirc`."
   ]
  },
  {
   "cell_type": "code",
   "execution_count": 9,
   "metadata": {},
   "outputs": [
    {
     "name": "stderr",
     "output_type": "stream",
     "text": [
      "2025-04-01 11:46:45,050 INFO [2024-09-26T00:00:00] Watch our [Forum](https://forum.ecmwf.int/) for Announcements, news and other discussed topics.\n",
      "2025-04-01 11:46:45,050 WARNING [2024-06-16T00:00:00] CDS API syntax is changed and some keys or parameter names may have also changed. To avoid requests failing, please use the \"Show API request code\" tool on the dataset Download Form to check you are using the correct syntax for your API request.\n"
     ]
    }
   ],
   "source": [
    "# CDS API\n",
    "import cdsapi\n",
    "client = cdsapi.Client()\n",
    "\n"
   ]
  },
  {
   "cell_type": "code",
   "execution_count": 18,
   "metadata": {},
   "outputs": [
    {
     "name": "stderr",
     "output_type": "stream",
     "text": [
      "2025-04-01 13:25:42,345 INFO Request ID is e1e57fa1-9b22-4c52-a624-70b99a5bea74\n",
      "2025-04-01 13:25:42,392 INFO status has been updated to accepted\n",
      "2025-04-01 13:25:49,843 INFO status has been updated to running\n",
      "2025-04-01 13:26:18,561 INFO status has been updated to successful\n",
      "                                                                                        \r"
     ]
    },
    {
     "data": {
      "text/plain": [
       "'1415709817bb693f7b08b02f33564b7.zip'"
      ]
     },
     "execution_count": 18,
     "metadata": {},
     "output_type": "execute_result"
    }
   ],
   "source": [
    "\n",
    "dataset = \"projections-cmip6\"\n",
    "request = {\n",
    "    \"temporal_resolution\": \"monthly\",\n",
    "    \"experiment\": \"historical\",\n",
    "    \"variable\": \"near_surface_air_temperature\",\n",
    "    \"model\": \"access_cm2\",\n",
    "    \"month\": [\n",
    "        \"01\", \"02\", \"03\",\n",
    "        \"04\", \"05\", \"06\",\n",
    "        \"07\", \"08\", \"09\",\n",
    "        \"10\", \"11\", \"12\"\n",
    "    ],\n",
    "    \"year\": [\n",
    "        \"1850\", \"1851\", \"1852\",\n",
    "        \"1853\", \"1854\", \"1855\",\n",
    "        \"1856\", \"1857\", \"1858\",\n",
    "        \"1859\", \"1860\", \"1861\",\n",
    "        \"1862\", \"1863\", \"1864\",\n",
    "        \"1865\", \"1866\", \"1867\",\n",
    "        \"1868\", \"1869\", \"1870\",\n",
    "        \"1871\", \"1872\", \"1873\",\n",
    "        \"1874\", \"1875\", \"1876\",\n",
    "        \"1877\", \"1878\", \"1879\",\n",
    "        \"1880\", \"1881\", \"1882\",\n",
    "        \"1883\", \"1884\", \"1885\",\n",
    "        \"1886\", \"1887\", \"1888\",\n",
    "        \"1889\", \"1890\", \"1891\",\n",
    "        \"1892\", \"1893\", \"1894\",\n",
    "        \"1895\", \"1896\", \"1897\",\n",
    "        \"1898\", \"1899\", \"1900\",\n",
    "        \"1901\", \"1902\", \"1903\",\n",
    "        \"1904\", \"1905\", \"1906\",\n",
    "        \"1907\", \"1908\", \"1909\",\n",
    "        \"1910\", \"1911\", \"1912\",\n",
    "        \"1913\", \"1914\", \"1915\",\n",
    "        \"1916\", \"1917\", \"1918\",\n",
    "        \"1919\", \"1920\", \"1921\",\n",
    "        \"1922\", \"1923\", \"1924\",\n",
    "        \"1925\", \"1926\", \"1927\",\n",
    "        \"1928\", \"1929\", \"1930\",\n",
    "        \"1931\", \"1932\", \"1933\",\n",
    "        \"1934\", \"1935\", \"1936\",\n",
    "        \"1937\", \"1938\", \"1939\",\n",
    "        \"1940\", \"1941\", \"1942\",\n",
    "        \"1943\", \"1944\", \"1945\",\n",
    "        \"1946\", \"1947\", \"1948\",\n",
    "        \"1949\", \"1950\", \"1951\",\n",
    "        \"1952\", \"1953\", \"1954\",\n",
    "        \"1955\", \"1956\", \"1957\",\n",
    "        \"1958\", \"1959\", \"1960\",\n",
    "        \"1961\", \"1962\", \"1963\",\n",
    "        \"1964\", \"1965\", \"1966\",\n",
    "        \"1967\", \"1968\", \"1969\",\n",
    "        \"1970\", \"1971\", \"1972\",\n",
    "        \"1973\", \"1974\", \"1975\",\n",
    "        \"1976\", \"1977\", \"1978\",\n",
    "        \"1979\", \"1980\", \"1981\",\n",
    "        \"1982\", \"1983\", \"1984\",\n",
    "        \"1985\", \"1986\", \"1987\",\n",
    "        \"1988\", \"1989\", \"1990\",\n",
    "        \"1991\", \"1992\", \"1993\",\n",
    "        \"1994\", \"1995\", \"1996\",\n",
    "        \"1997\", \"1998\", \"1999\",\n",
    "        \"2000\", \"2001\", \"2002\",\n",
    "        \"2003\", \"2004\", \"2005\",\n",
    "        \"2006\", \"2007\", \"2008\",\n",
    "        \"2009\", \"2010\", \"2011\",\n",
    "        \"2012\", \"2013\", \"2014\"\n",
    "    ]\n",
    "}\n",
    "\n",
    "client.retrieve(dataset, request).download()\n"
   ]
  },
  {
   "cell_type": "code",
   "execution_count": 19,
   "metadata": {},
   "outputs": [
    {
     "name": "stderr",
     "output_type": "stream",
     "text": [
      "Recovering from connection error [('Connection aborted.', RemoteDisconnected('Remote end closed connection without response'))], attempt 1 of 500\n",
      "Retrying in 120 seconds\n",
      "2025-04-01 13:29:13,392 INFO Request ID is c9418e39-fbd8-47fe-bca4-ad336d2e8bbe\n",
      "2025-04-01 13:29:13,840 INFO status has been updated to accepted\n",
      "2025-04-01 13:29:17,563 INFO status has been updated to running\n",
      "Recovering from connection error [('Connection aborted.', RemoteDisconnected('Remote end closed connection without response'))], attempt 1 of 500\n",
      "Retrying in 120 seconds\n",
      "2025-04-01 13:32:43,586 INFO status has been updated to successful\n",
      "                                                                                         \r"
     ]
    },
    {
     "data": {
      "text/plain": [
       "'2ed19018766cf75f63f1b41a261b0601.zip'"
      ]
     },
     "execution_count": 19,
     "metadata": {},
     "output_type": "execute_result"
    }
   ],
   "source": [
    "\n",
    "dataset = \"projections-cmip6\"\n",
    "request = {\n",
    "    \"temporal_resolution\": \"monthly\",\n",
    "    \"experiment\": \"historical\",\n",
    "    \"variable\": \"precipitation\",\n",
    "    \"model\": \"access_cm2\",\n",
    "    \"month\": [\n",
    "        \"01\", \"02\", \"03\",\n",
    "        \"04\", \"05\", \"06\",\n",
    "        \"07\", \"08\", \"09\",\n",
    "        \"10\", \"11\", \"12\"\n",
    "    ],\n",
    "    \"year\": [\n",
    "        \"1850\", \"1851\", \"1852\",\n",
    "        \"1853\", \"1854\", \"1855\",\n",
    "        \"1856\", \"1857\", \"1858\",\n",
    "        \"1859\", \"1860\", \"1861\",\n",
    "        \"1862\", \"1863\", \"1864\",\n",
    "        \"1865\", \"1866\", \"1867\",\n",
    "        \"1868\", \"1869\", \"1870\",\n",
    "        \"1871\", \"1872\", \"1873\",\n",
    "        \"1874\", \"1875\", \"1876\",\n",
    "        \"1877\", \"1878\", \"1879\",\n",
    "        \"1880\", \"1881\", \"1882\",\n",
    "        \"1883\", \"1884\", \"1885\",\n",
    "        \"1886\", \"1887\", \"1888\",\n",
    "        \"1889\", \"1890\", \"1891\",\n",
    "        \"1892\", \"1893\", \"1894\",\n",
    "        \"1895\", \"1896\", \"1897\",\n",
    "        \"1898\", \"1899\", \"1900\",\n",
    "        \"1901\", \"1902\", \"1903\",\n",
    "        \"1904\", \"1905\", \"1906\",\n",
    "        \"1907\", \"1908\", \"1909\",\n",
    "        \"1910\", \"1911\", \"1912\",\n",
    "        \"1913\", \"1914\", \"1915\",\n",
    "        \"1916\", \"1917\", \"1918\",\n",
    "        \"1919\", \"1920\", \"1921\",\n",
    "        \"1922\", \"1923\", \"1924\",\n",
    "        \"1925\", \"1926\", \"1927\",\n",
    "        \"1928\", \"1929\", \"1930\",\n",
    "        \"1931\", \"1932\", \"1933\",\n",
    "        \"1934\", \"1935\", \"1936\",\n",
    "        \"1937\", \"1938\", \"1939\",\n",
    "        \"1940\", \"1941\", \"1942\",\n",
    "        \"1943\", \"1944\", \"1945\",\n",
    "        \"1946\", \"1947\", \"1948\",\n",
    "        \"1949\", \"1950\", \"1951\",\n",
    "        \"1952\", \"1953\", \"1954\",\n",
    "        \"1955\", \"1956\", \"1957\",\n",
    "        \"1958\", \"1959\", \"1960\",\n",
    "        \"1961\", \"1962\", \"1963\",\n",
    "        \"1964\", \"1965\", \"1966\",\n",
    "        \"1967\", \"1968\", \"1969\",\n",
    "        \"1970\", \"1971\", \"1972\",\n",
    "        \"1973\", \"1974\", \"1975\",\n",
    "        \"1976\", \"1977\", \"1978\",\n",
    "        \"1979\", \"1980\", \"1981\",\n",
    "        \"1982\", \"1983\", \"1984\",\n",
    "        \"1985\", \"1986\", \"1987\",\n",
    "        \"1988\", \"1989\", \"1990\",\n",
    "        \"1991\", \"1992\", \"1993\",\n",
    "        \"1994\", \"1995\", \"1996\",\n",
    "        \"1997\", \"1998\", \"1999\",\n",
    "        \"2000\", \"2001\", \"2002\",\n",
    "        \"2003\", \"2004\", \"2005\",\n",
    "        \"2006\", \"2007\", \"2008\",\n",
    "        \"2009\", \"2010\", \"2011\",\n",
    "        \"2012\", \"2013\", \"2014\"\n",
    "    ]\n",
    "}\n",
    "\n",
    "client.retrieve(dataset, request).download()\n"
   ]
  },
  {
   "cell_type": "code",
   "execution_count": 10,
   "metadata": {},
   "outputs": [
    {
     "name": "stderr",
     "output_type": "stream",
     "text": [
      "2025-04-01 11:50:33,995 INFO Request ID is 0629e73c-985f-4150-9b03-4f4af2fd7cdd\n",
      "2025-04-01 11:50:34,372 INFO status has been updated to accepted\n",
      "Recovering from connection error [('Connection aborted.', RemoteDisconnected('Remote end closed connection without response'))], attempt 1 of 500\n",
      "Retrying in 120 seconds\n",
      "2025-04-01 11:53:30,960 INFO status has been updated to successful\n",
      "                                                                                         \r"
     ]
    },
    {
     "data": {
      "text/plain": [
       "'5c92b896e72fc73b71ac091a0279d272.zip'"
      ]
     },
     "execution_count": 10,
     "metadata": {},
     "output_type": "execute_result"
    }
   ],
   "source": [
    "dataset = \"projections-cmip6\"\n",
    "request = {\n",
    "    \"temporal_resolution\": \"monthly\",\n",
    "    \"experiment\": \"historical\",\n",
    "    \"variable\": \"precipitation\",\n",
    "    \"model\": \"cmcc_cm2_hr4\",\n",
    "    \"month\": [\n",
    "        \"01\", \"02\", \"03\",\n",
    "        \"04\", \"05\", \"06\",\n",
    "        \"07\", \"08\", \"09\",\n",
    "        \"10\", \"11\", \"12\"\n",
    "    ],\n",
    "    \"year\": [\n",
    "        \"1850\", \"1851\", \"1852\",\n",
    "        \"1853\", \"1854\", \"1855\",\n",
    "        \"1856\", \"1857\", \"1858\",\n",
    "        \"1859\", \"1860\", \"1861\",\n",
    "        \"1862\", \"1863\", \"1864\",\n",
    "        \"1865\", \"1866\", \"1867\",\n",
    "        \"1868\", \"1869\", \"1870\",\n",
    "        \"1871\", \"1872\", \"1873\",\n",
    "        \"1874\", \"1875\", \"1876\",\n",
    "        \"1877\", \"1878\", \"1879\",\n",
    "        \"1880\", \"1881\", \"1882\",\n",
    "        \"1883\", \"1884\", \"1885\",\n",
    "        \"1886\", \"1887\", \"1888\",\n",
    "        \"1889\", \"1890\", \"1891\",\n",
    "        \"1892\", \"1893\", \"1894\",\n",
    "        \"1895\", \"1896\", \"1897\",\n",
    "        \"1898\", \"1899\", \"1900\",\n",
    "        \"1901\", \"1902\", \"1903\",\n",
    "        \"1904\", \"1905\", \"1906\",\n",
    "        \"1907\", \"1908\", \"1909\",\n",
    "        \"1910\", \"1911\", \"1912\",\n",
    "        \"1913\", \"1914\", \"1915\",\n",
    "        \"1916\", \"1917\", \"1918\",\n",
    "        \"1919\", \"1920\", \"1921\",\n",
    "        \"1922\", \"1923\", \"1924\",\n",
    "        \"1925\", \"1926\", \"1927\",\n",
    "        \"1928\", \"1929\", \"1930\",\n",
    "        \"1931\", \"1932\", \"1933\",\n",
    "        \"1934\", \"1935\", \"1936\",\n",
    "        \"1937\", \"1938\", \"1939\",\n",
    "        \"1940\", \"1941\", \"1942\",\n",
    "        \"1943\", \"1944\", \"1945\",\n",
    "        \"1946\", \"1947\", \"1948\",\n",
    "        \"1949\", \"1950\", \"1951\",\n",
    "        \"1952\", \"1953\", \"1954\",\n",
    "        \"1955\", \"1956\", \"1957\",\n",
    "        \"1958\", \"1959\", \"1960\",\n",
    "        \"1961\", \"1962\", \"1963\",\n",
    "        \"1964\", \"1965\", \"1966\",\n",
    "        \"1967\", \"1968\", \"1969\",\n",
    "        \"1970\", \"1971\", \"1972\",\n",
    "        \"1973\", \"1974\", \"1975\",\n",
    "        \"1976\", \"1977\", \"1978\",\n",
    "        \"1979\", \"1980\", \"1981\",\n",
    "        \"1982\", \"1983\", \"1984\",\n",
    "        \"1985\", \"1986\", \"1987\",\n",
    "        \"1988\", \"1989\", \"1990\",\n",
    "        \"1991\", \"1992\", \"1993\",\n",
    "        \"1994\", \"1995\", \"1996\",\n",
    "        \"1997\", \"1998\", \"1999\",\n",
    "        \"2000\", \"2001\", \"2002\",\n",
    "        \"2003\", \"2004\", \"2005\",\n",
    "        \"2006\", \"2007\", \"2008\",\n",
    "        \"2009\", \"2010\", \"2011\",\n",
    "        \"2012\", \"2013\", \"2014\"\n",
    "    ]\n",
    "}\n",
    "\n",
    "client.retrieve(dataset, request).download()"
   ]
  },
  {
   "cell_type": "code",
   "execution_count": null,
   "metadata": {},
   "outputs": [],
   "source": [
    "c = cdsapi.Client()\n",
    "\n",
    "c.retrieve(\n",
    "    'projections-cmip6',\n",
    "    {\n",
    "        'format': 'zip',\n",
    "        'temporal_resolution': 'monthly',\n",
    "        'experiment': 'historical',\n",
    "        'level': 'single_levels',\n",
    "        'variable': 'near_surface_air_temperature',\n",
    "        'model': 'noresm2_mm',\n",
    "    },\n",
    "    'download.zip')"
   ]
  },
  {
   "cell_type": "code",
   "execution_count": 5,
   "metadata": {},
   "outputs": [
    {
     "name": "stderr",
     "output_type": "stream",
     "text": [
      "2022-07-23 19:38:41,991 INFO Welcome to the CDS\n",
      "2022-07-23 19:38:41,992 INFO Sending request to https://cds.climate.copernicus.eu/api/v2/resources/projections-cmip6\n",
      "2022-07-23 19:38:42,074 INFO Request is queued\n",
      "2022-07-23 19:38:43,125 INFO Request is running\n",
      "2022-07-23 19:39:14,783 INFO Request is completed\n",
      "2022-07-23 19:39:14,784 INFO Downloading https://download-0018.copernicus-climate.eu/cache-compute-0018/cache/data4/adaptor.esgf_wps.retrieve-1658597932.7029521-16845-16-165168af-42bc-49c6-8482-582c28441dcd.zip to download_precipitation_hist.zip (325.4M)\n",
      "2022-07-23 19:40:39,742 INFO Download rate 3.8M/s                                                                      \n"
     ]
    },
    {
     "data": {
      "text/plain": [
       "Result(content_length=341201187,content_type=application/zip,location=https://download-0018.copernicus-climate.eu/cache-compute-0018/cache/data4/adaptor.esgf_wps.retrieve-1658597932.7029521-16845-16-165168af-42bc-49c6-8482-582c28441dcd.zip)"
      ]
     },
     "execution_count": 5,
     "metadata": {},
     "output_type": "execute_result"
    }
   ],
   "source": [
    "c.retrieve(\n",
    "    'projections-cmip6',\n",
    "    {\n",
    "        'format': 'zip',\n",
    "        'temporal_resolution': 'monthly',\n",
    "        'experiment': 'historical',\n",
    "        'level': 'single_levels',\n",
    "        'variable': 'precipitation',\n",
    "        'model': 'noresm2_mm',\n",
    "    },\n",
    "    'download_precipitation_hist.zip')"
   ]
  },
  {
   "cell_type": "code",
   "execution_count": 6,
   "metadata": {},
   "outputs": [
    {
     "name": "stderr",
     "output_type": "stream",
     "text": [
      "2022-07-23 19:43:26,957 INFO Welcome to the CDS\n",
      "2022-07-23 19:43:26,958 INFO Sending request to https://cds.climate.copernicus.eu/api/v2/resources/projections-cmip6\n",
      "2022-07-23 19:43:27,106 INFO Request is queued\n",
      "2022-07-23 19:43:28,136 INFO Request is running\n",
      "2022-07-23 19:43:48,153 INFO Request is completed\n",
      "2022-07-23 19:43:48,154 INFO Downloading https://download-0000-clone.copernicus-climate.eu/cache-compute-0000/cache/data8/adaptor.esgf_wps.retrieve-1658598214.5065205-22426-19-192306fa-b5ed-4396-b395-04adb86a5fdf.zip to download_ssp1_2_6.zip (120.5M)\n",
      "2022-07-23 19:44:16,208 INFO Download rate 4.3M/s                                                                      \n"
     ]
    },
    {
     "data": {
      "text/plain": [
       "Result(content_length=126314139,content_type=application/zip,location=https://download-0000-clone.copernicus-climate.eu/cache-compute-0000/cache/data8/adaptor.esgf_wps.retrieve-1658598214.5065205-22426-19-192306fa-b5ed-4396-b395-04adb86a5fdf.zip)"
      ]
     },
     "execution_count": 6,
     "metadata": {},
     "output_type": "execute_result"
    }
   ],
   "source": [
    "c.retrieve(\n",
    "    'projections-cmip6',\n",
    "    {\n",
    "        'format': 'zip',\n",
    "        'temporal_resolution': 'monthly',\n",
    "        'experiment': 'ssp1_2_6',\n",
    "        'level': 'single_levels',\n",
    "        'variable': 'near_surface_air_temperature',\n",
    "        'model': 'noresm2_mm',\n",
    "    },\n",
    "    'download_ssp1_2_6.zip')"
   ]
  },
  {
   "cell_type": "code",
   "execution_count": 7,
   "metadata": {},
   "outputs": [
    {
     "name": "stderr",
     "output_type": "stream",
     "text": [
      "2022-07-23 19:44:16,275 INFO Welcome to the CDS\n",
      "2022-07-23 19:44:16,276 INFO Sending request to https://cds.climate.copernicus.eu/api/v2/resources/projections-cmip6\n",
      "2022-07-23 19:44:16,377 INFO Request is queued\n",
      "2022-07-23 19:44:17,430 INFO Request is running\n",
      "2022-07-23 19:44:37,412 INFO Request is completed\n",
      "2022-07-23 19:44:37,414 INFO Downloading https://download-0003-clone.copernicus-climate.eu/cache-compute-0003/cache/data9/adaptor.esgf_wps.retrieve-1658598263.9496303-17675-18-e1a0b41d-8321-4445-989e-35c45308a7c8.zip to download_ssp2_4_5.zip (120.4M)\n",
      "2022-07-23 19:45:07,069 INFO Download rate 4.1M/s                                                                      \n"
     ]
    },
    {
     "data": {
      "text/plain": [
       "Result(content_length=126240485,content_type=application/zip,location=https://download-0003-clone.copernicus-climate.eu/cache-compute-0003/cache/data9/adaptor.esgf_wps.retrieve-1658598263.9496303-17675-18-e1a0b41d-8321-4445-989e-35c45308a7c8.zip)"
      ]
     },
     "execution_count": 7,
     "metadata": {},
     "output_type": "execute_result"
    }
   ],
   "source": [
    "c.retrieve(\n",
    "    'projections-cmip6',\n",
    "    {\n",
    "        'format': 'zip',\n",
    "        'temporal_resolution': 'monthly',\n",
    "        'experiment': 'ssp2_4_5',\n",
    "        'level': 'single_levels',\n",
    "        'variable': 'near_surface_air_temperature',\n",
    "        'model': 'noresm2_mm',\n",
    "    },\n",
    "    'download_ssp2_4_5.zip')"
   ]
  },
  {
   "cell_type": "code",
   "execution_count": 8,
   "metadata": {},
   "outputs": [
    {
     "name": "stderr",
     "output_type": "stream",
     "text": [
      "2022-07-23 19:45:07,120 INFO Welcome to the CDS\n",
      "2022-07-23 19:45:07,121 INFO Sending request to https://cds.climate.copernicus.eu/api/v2/resources/projections-cmip6\n",
      "2022-07-23 19:45:07,200 INFO Request is queued\n",
      "2022-07-23 19:45:08,247 INFO Request is running\n",
      "2022-07-23 19:45:28,351 INFO Request is completed\n",
      "2022-07-23 19:45:28,351 INFO Downloading https://download-0000-clone.copernicus-climate.eu/cache-compute-0000/cache/data0/adaptor.esgf_wps.retrieve-1658598314.548329-22822-16-92469002-70f8-42bb-beeb-30e9824c0c1a.zip to download_ssp3_7_0.zip (120.3M)\n",
      "2022-07-23 19:45:57,142 INFO Download rate 4.2M/s                                                                      \n"
     ]
    },
    {
     "data": {
      "text/plain": [
       "Result(content_length=126160223,content_type=application/zip,location=https://download-0000-clone.copernicus-climate.eu/cache-compute-0000/cache/data0/adaptor.esgf_wps.retrieve-1658598314.548329-22822-16-92469002-70f8-42bb-beeb-30e9824c0c1a.zip)"
      ]
     },
     "execution_count": 8,
     "metadata": {},
     "output_type": "execute_result"
    }
   ],
   "source": [
    "c.retrieve(\n",
    "    'projections-cmip6',\n",
    "    {\n",
    "        'format': 'zip',\n",
    "        'temporal_resolution': 'monthly',\n",
    "        'experiment': 'ssp3_7_0',\n",
    "        'level': 'single_levels',\n",
    "        'variable': 'near_surface_air_temperature',\n",
    "        'model': 'noresm2_mm',\n",
    "    },\n",
    "    'download_ssp3_7_0.zip')"
   ]
  },
  {
   "cell_type": "code",
   "execution_count": 9,
   "metadata": {},
   "outputs": [
    {
     "name": "stderr",
     "output_type": "stream",
     "text": [
      "2022-07-23 19:45:57,190 INFO Welcome to the CDS\n",
      "2022-07-23 19:45:57,192 INFO Sending request to https://cds.climate.copernicus.eu/api/v2/resources/projections-cmip6\n",
      "2022-07-23 19:45:57,301 INFO Request is queued\n",
      "2022-07-23 19:45:58,349 INFO Request is running\n",
      "2022-07-23 19:46:18,351 INFO Request is completed\n",
      "2022-07-23 19:46:18,357 INFO Downloading https://download-0008-clone.copernicus-climate.eu/cache-compute-0008/cache/data7/adaptor.esgf_wps.retrieve-1658598364.8515203-13589-17-83609360-1362-4743-bbf2-6a4a32d07b15.zip to download_ssp5_8_5.zip (120.3M)\n",
      "2022-07-23 19:46:47,609 INFO Download rate 4.1M/s                                                                      \n"
     ]
    },
    {
     "data": {
      "text/plain": [
       "Result(content_length=126131607,content_type=application/zip,location=https://download-0008-clone.copernicus-climate.eu/cache-compute-0008/cache/data7/adaptor.esgf_wps.retrieve-1658598364.8515203-13589-17-83609360-1362-4743-bbf2-6a4a32d07b15.zip)"
      ]
     },
     "execution_count": 9,
     "metadata": {},
     "output_type": "execute_result"
    }
   ],
   "source": [
    "c.retrieve(\n",
    "    'projections-cmip6',\n",
    "    {\n",
    "        'format': 'zip',\n",
    "        'temporal_resolution': 'monthly',\n",
    "        'experiment': 'ssp5_8_5',\n",
    "        'level': 'single_levels',\n",
    "        'variable': 'near_surface_air_temperature',\n",
    "        'model': 'noresm2_mm',\n",
    "    },\n",
    "    'download_ssp5_8_5.zip')"
   ]
  },
  {
   "cell_type": "code",
   "execution_count": 10,
   "metadata": {},
   "outputs": [
    {
     "name": "stderr",
     "output_type": "stream",
     "text": [
      "2022-07-23 19:47:50,914 INFO Welcome to the CDS\n",
      "2022-07-23 19:47:50,916 INFO Sending request to https://cds.climate.copernicus.eu/api/v2/resources/projections-cmip6\n",
      "2022-07-23 19:47:51,162 INFO Request is queued\n",
      "2022-07-23 19:47:52,212 INFO Request is running\n",
      "2022-07-23 19:48:12,592 INFO Request is completed\n",
      "2022-07-23 19:48:12,596 INFO Downloading https://download-0000-clone.copernicus-climate.eu/cache-compute-0000/cache/data8/adaptor.esgf_wps.retrieve-1658598478.7539153-24440-13-cec25fc4-613a-4903-962f-cac5cb4f435a.zip to download_ssp1_2_6_precipitation.zip (169.7M)\n",
      "2022-07-23 19:49:18,727 INFO Download rate 2.6M/s                                                                      \n",
      "2022-07-23 19:49:18,935 INFO Welcome to the CDS\n",
      "2022-07-23 19:49:18,936 INFO Sending request to https://cds.climate.copernicus.eu/api/v2/resources/projections-cmip6\n",
      "2022-07-23 19:49:19,067 INFO Request is queued\n",
      "2022-07-23 19:49:20,107 INFO Request is running\n",
      "2022-07-23 19:49:51,560 INFO Request is completed\n",
      "2022-07-23 19:49:51,561 INFO Downloading https://download-0020.copernicus-climate.eu/cache-compute-0020/cache/data9/adaptor.esgf_wps.retrieve-1658598566.4131372-22778-17-2fd0c4ed-74fa-48f3-ab56-dfffdc072414.zip to download_ssp2_4_5_precipitation.zip (169.7M)\n",
      "2022-07-23 19:50:35,536 INFO Download rate 3.9M/s                                                                      \n",
      "2022-07-23 19:50:35,863 INFO Welcome to the CDS\n",
      "2022-07-23 19:50:35,864 INFO Sending request to https://cds.climate.copernicus.eu/api/v2/resources/projections-cmip6\n",
      "2022-07-23 19:50:35,982 INFO Request is queued\n",
      "2022-07-23 19:50:37,031 INFO Request is running\n",
      "2022-07-23 19:50:57,096 INFO Request is completed\n",
      "2022-07-23 19:50:57,097 INFO Downloading https://download-0020.copernicus-climate.eu/cache-compute-0020/cache/data9/adaptor.esgf_wps.retrieve-1658598643.3568532-23726-17-592076e0-9002-4d4d-959f-3a0ce3fd1f79.zip to download_ssp3_7_0_precipitation.zip (169.7M)\n",
      "2022-07-23 19:51:40,130 INFO Download rate 3.9M/s                                                                      \n",
      "2022-07-23 19:51:40,257 INFO Welcome to the CDS\n",
      "2022-07-23 19:51:40,258 INFO Sending request to https://cds.climate.copernicus.eu/api/v2/resources/projections-cmip6\n",
      "2022-07-23 19:51:40,341 INFO Request is queued\n",
      "2022-07-23 19:51:42,925 INFO Request is running\n",
      "2022-07-23 19:52:12,834 INFO Request is completed\n",
      "2022-07-23 19:52:12,835 INFO Downloading https://download-0020.copernicus-climate.eu/cache-compute-0020/cache/data6/adaptor.esgf_wps.retrieve-1658598708.871517-24459-19-a1765e4d-1ea8-4fac-909b-baa30b871227.zip to download_ssp5_8_5_precipitation.zip (169.7M)\n",
      "2022-07-23 19:53:02,905 INFO Download rate 3.4M/s                                                                      \n"
     ]
    },
    {
     "data": {
      "text/plain": [
       "Result(content_length=177970687,content_type=application/zip,location=https://download-0020.copernicus-climate.eu/cache-compute-0020/cache/data6/adaptor.esgf_wps.retrieve-1658598708.871517-24459-19-a1765e4d-1ea8-4fac-909b-baa30b871227.zip)"
      ]
     },
     "execution_count": 10,
     "metadata": {},
     "output_type": "execute_result"
    }
   ],
   "source": [
    "c.retrieve(\n",
    "    'projections-cmip6',\n",
    "    {\n",
    "        'format': 'zip',\n",
    "        'temporal_resolution': 'monthly',\n",
    "        'experiment': 'ssp1_2_6',\n",
    "        'level': 'single_levels',\n",
    "        'variable': 'precipitation',\n",
    "        'model': 'noresm2_mm',\n",
    "    },\n",
    "    'download_ssp1_2_6_precipitation.zip')\n",
    "c.retrieve(\n",
    "    'projections-cmip6',\n",
    "    {\n",
    "        'format': 'zip',\n",
    "        'temporal_resolution': 'monthly',\n",
    "        'experiment': 'ssp2_4_5',\n",
    "        'level': 'single_levels',\n",
    "        'variable': 'precipitation',\n",
    "        'model': 'noresm2_mm',\n",
    "    },\n",
    "    'download_ssp2_4_5_precipitation.zip')\n",
    "c.retrieve(\n",
    "    'projections-cmip6',\n",
    "    {\n",
    "        'format': 'zip',\n",
    "        'temporal_resolution': 'monthly',\n",
    "        'experiment': 'ssp3_7_0',\n",
    "        'level': 'single_levels',\n",
    "        'variable': 'precipitation',\n",
    "        'model': 'noresm2_mm',\n",
    "    },\n",
    "    'download_ssp3_7_0_precipitation.zip')\n",
    "c.retrieve(\n",
    "    'projections-cmip6',\n",
    "    {\n",
    "        'format': 'zip',\n",
    "        'temporal_resolution': 'monthly',\n",
    "        'experiment': 'ssp5_8_5',\n",
    "        'level': 'single_levels',\n",
    "        'variable': 'precipitation',\n",
    "        'model': 'noresm2_mm',\n",
    "    },\n",
    "    'download_ssp5_8_5_precipitation.zip')"
   ]
  },
  {
   "cell_type": "code",
   "execution_count": 4,
   "metadata": {},
   "outputs": [
    {
     "name": "stderr",
     "output_type": "stream",
     "text": [
      "2022-07-25 15:58:28,965 INFO Welcome to the CDS\n",
      "2022-07-25 15:58:28,966 INFO Sending request to https://cds.climate.copernicus.eu/api/v2/resources/projections-cmip6\n",
      "2022-07-25 15:58:29,070 INFO Request is queued\n",
      "2022-07-25 15:58:30,092 INFO Request is running\n",
      "2022-07-25 15:58:42,390 INFO Request is completed\n",
      "2022-07-25 15:58:42,390 INFO Downloading https://download-0008-clone.copernicus-climate.eu/cache-compute-0008/cache/data2/adaptor.esgf_wps.retrieve-1658757517.0713184-29544-13-9841efe0-7044-4252-ac65-f9ff512f64e2.zip to download_canesm5_canoe_ssp5_8_5_temp.zip (26.1M)\n",
      "2022-07-25 15:58:55,785 INFO Download rate 2M/s                                                                        \n",
      "2022-07-25 15:58:55,820 INFO Welcome to the CDS\n",
      "2022-07-25 15:58:55,821 INFO Sending request to https://cds.climate.copernicus.eu/api/v2/resources/projections-cmip6\n",
      "2022-07-25 15:58:55,888 INFO Request is queued\n",
      "2022-07-25 15:58:56,921 INFO Request is running\n",
      "2022-07-25 15:59:09,216 INFO Request is completed\n",
      "2022-07-25 15:59:09,217 INFO Downloading https://download-0020.copernicus-climate.eu/cache-compute-0020/cache/data4/adaptor.esgf_wps.retrieve-1658757543.9279673-27596-16-34feb4d7-5268-4aea-8cbd-504dd568ca08.zip to download_cnrm_cm6_1_ssp5_8_5_temp.zip (71.3M)\n",
      "2022-07-25 15:59:48,634 INFO Download rate 1.8M/s                                                                      \n",
      "2022-07-25 15:59:48,691 INFO Welcome to the CDS\n",
      "2022-07-25 15:59:48,692 INFO Sending request to https://cds.climate.copernicus.eu/api/v2/resources/projections-cmip6\n",
      "2022-07-25 15:59:48,737 INFO Request is queued\n",
      "2022-07-25 15:59:49,837 INFO Request is running\n",
      "2022-07-25 16:01:03,943 INFO Request is completed\n",
      "2022-07-25 16:01:03,943 INFO Downloading https://download-0005-clone.copernicus-climate.eu/cache-compute-0005/cache/data2/adaptor.esgf_wps.retrieve-1658757596.8742542-32556-14-f742548a-8b79-4161-a00e-6b41008ccc85.zip to download_hadgem3_gc31_mm_ssp5_8_5_temp.zip (257.9M)\n",
      "2022-07-25 16:03:28,060 INFO Download rate 1.8M/s                                                                      \n",
      "2022-07-25 16:03:28,244 INFO Welcome to the CDS\n",
      "2022-07-25 16:03:28,246 INFO Sending request to https://cds.climate.copernicus.eu/api/v2/resources/projections-cmip6\n",
      "2022-07-25 16:03:28,374 INFO Request is queued\n",
      "2022-07-25 16:03:29,399 INFO Request is running\n",
      "2022-07-25 16:03:49,289 INFO Request is completed\n",
      "2022-07-25 16:03:49,290 INFO Downloading https://download-0006-clone.copernicus-climate.eu/cache-compute-0006/cache/data2/adaptor.esgf_wps.retrieve-1658757816.587248-23738-19-fd93f97c-8e9c-4521-a820-81f4064826f1.zip to download_mpi_esm1_2_lr_ssp5_8_5_temp.zip (33.1M)\n",
      "2022-07-25 16:04:07,777 INFO Download rate 1.8M/s                                                                      \n",
      "2022-07-25 16:04:07,811 INFO Welcome to the CDS\n",
      "2022-07-25 16:04:07,812 INFO Sending request to https://cds.climate.copernicus.eu/api/v2/resources/projections-cmip6\n",
      "2022-07-25 16:04:07,904 INFO Request is queued\n",
      "2022-07-25 16:04:08,926 INFO Request is running\n",
      "2022-07-25 16:04:21,201 INFO Request is completed\n",
      "2022-07-25 16:04:21,202 INFO Downloading https://download-0013-clone.copernicus-climate.eu/cache-compute-0013/cache/data8/adaptor.esgf_wps.retrieve-1658757856.093212-22888-17-b816987c-285c-4bad-a74b-20c199389942.zip to download_cmcc_cm2_sr5_ssp5_8_5_temp.zip (121.2M)\n",
      "2022-07-25 16:05:32,702 INFO Download rate 1.7M/s                                                                      \n"
     ]
    },
    {
     "data": {
      "text/plain": [
       "Result(content_length=127039200,content_type=application/zip,location=https://download-0013-clone.copernicus-climate.eu/cache-compute-0013/cache/data8/adaptor.esgf_wps.retrieve-1658757856.093212-22888-17-b816987c-285c-4bad-a74b-20c199389942.zip)"
      ]
     },
     "execution_count": 4,
     "metadata": {},
     "output_type": "execute_result"
    }
   ],
   "source": [
    "c.retrieve(\n",
    "    'projections-cmip6',\n",
    "    {\n",
    "        'format': 'zip',\n",
    "        'temporal_resolution': 'monthly',\n",
    "        'experiment': 'ssp5_8_5',\n",
    "        'level': 'single_levels',\n",
    "        'variable': 'near_surface_air_temperature',\n",
    "        'model': 'canesm5_canoe',\n",
    "    },\n",
    "    'download_canesm5_canoe_ssp5_8_5_temp.zip')\n",
    "c.retrieve(\n",
    "    'projections-cmip6',\n",
    "    {\n",
    "        'format': 'zip',\n",
    "        'temporal_resolution': 'monthly',\n",
    "        'experiment': 'ssp5_8_5',\n",
    "        'level': 'single_levels',\n",
    "        'variable': 'near_surface_air_temperature',\n",
    "        'model': 'cnrm_cm6_1',\n",
    "    },\n",
    "    'download_cnrm_cm6_1_ssp5_8_5_temp.zip')\n",
    "c.retrieve(\n",
    "    'projections-cmip6',\n",
    "    {\n",
    "        'format': 'zip',\n",
    "        'temporal_resolution': 'monthly',\n",
    "        'experiment': 'ssp5_8_5',\n",
    "        'level': 'single_levels',\n",
    "        'variable': 'near_surface_air_temperature',\n",
    "        'model': 'hadgem3_gc31_mm',\n",
    "    },\n",
    "    'download_hadgem3_gc31_mm_ssp5_8_5_temp.zip')\n",
    "c.retrieve(\n",
    "    'projections-cmip6',\n",
    "    {\n",
    "        'format': 'zip',\n",
    "        'temporal_resolution': 'monthly',\n",
    "        'experiment': 'ssp5_8_5',\n",
    "        'level': 'single_levels',\n",
    "        'variable': 'near_surface_air_temperature',\n",
    "        'model': 'mpi_esm1_2_lr',\n",
    "    },\n",
    "    'download_mpi_esm1_2_lr_ssp5_8_5_temp.zip')\n",
    "c.retrieve(\n",
    "    'projections-cmip6',\n",
    "    {\n",
    "        'format': 'zip',\n",
    "        'temporal_resolution': 'monthly',\n",
    "        'experiment': 'ssp5_8_5',\n",
    "        'level': 'single_levels',\n",
    "        'variable': 'near_surface_air_temperature',\n",
    "        'model': 'cmcc_cm2_sr5',\n",
    "    },\n",
    "    'download_cmcc_cm2_sr5_ssp5_8_5_temp.zip')"
   ]
  },
  {
   "cell_type": "code",
   "execution_count": null,
   "metadata": {},
   "outputs": [],
   "source": [
    "c.retrieve(\n",
    "    'projections-cmip6',\n",
    "    {\n",
    "        'format': 'zip',\n",
    "        'temporal_resolution': 'monthly',\n",
    "        'experiment': 'ssp5_8_5',\n",
    "        'level': 'single_levels',\n",
    "        'variable': 'precipitation',\n",
    "        'model': 'canesm5_canoe',\n",
    "    },\n",
    "    'download_canesm5_canoe_ssp5_8_5_precipitation.zip')\n",
    "c.retrieve(\n",
    "    'projections-cmip6',\n",
    "    {\n",
    "        'format': 'zip',\n",
    "        'temporal_resolution': 'monthly',\n",
    "        'experiment': 'ssp5_8_5',\n",
    "        'level': 'single_levels',\n",
    "        'variable': 'precipitation',\n",
    "        'model': 'cnrm_cm6_1',\n",
    "    },\n",
    "    'download_cnrm_cm6_1_ssp5_8_5_precipitation.zip')\n",
    "c.retrieve(\n",
    "    'projections-cmip6',\n",
    "    {\n",
    "        'format': 'zip',\n",
    "        'temporal_resolution': 'monthly',\n",
    "        'experiment': 'ssp5_8_5',\n",
    "        'level': 'single_levels',\n",
    "        'variable': 'precipitation',\n",
    "        'model': 'hadgem3_gc31_mm',\n",
    "    },\n",
    "    'download_hadgem3_gc31_mm_ssp5_8_5_precipitation.zip')\n",
    "c.retrieve(\n",
    "    'projections-cmip6',\n",
    "    {\n",
    "        'format': 'zip',\n",
    "        'temporal_resolution': 'monthly',\n",
    "        'experiment': 'ssp5_8_5',\n",
    "        'level': 'single_levels',\n",
    "        'variable': 'precipitation',\n",
    "        'model': 'mpi_esm1_2_lr',\n",
    "    },\n",
    "    'download_mpi_esm1_2_lr_ssp5_8_5_precipitation.zip')\n",
    "c.retrieve(\n",
    "    'projections-cmip6',\n",
    "    {\n",
    "        'format': 'zip',\n",
    "        'temporal_resolution': 'monthly',\n",
    "        'experiment': 'ssp5_8_5',\n",
    "        'level': 'single_levels',\n",
    "        'variable': 'precipitation',\n",
    "        'model': 'cmcc_cm2_sr5',\n",
    "    },\n",
    "    'download_cmcc_cm2_sr5_ssp5_8_5_precipitation.zip')"
   ]
  }
 ],
 "metadata": {
  "kernelspec": {
   "display_name": "base",
   "language": "python",
   "name": "python3"
  },
  "language_info": {
   "codemirror_mode": {
    "name": "ipython",
    "version": 3
   },
   "file_extension": ".py",
   "mimetype": "text/x-python",
   "name": "python",
   "nbconvert_exporter": "python",
   "pygments_lexer": "ipython3",
   "version": "3.9.15"
  }
 },
 "nbformat": 4,
 "nbformat_minor": 4
}
